{
 "cells": [
  {
   "cell_type": "code",
   "execution_count": 65,
   "id": "462e3210",
   "metadata": {},
   "outputs": [],
   "source": [
    "import matplotlib.pyplot as plt\n",
    "import numpy as np\n",
    "import pandas as pd\n",
    "import ipywidgets as widgets\n",
    "import traitlets\n"
   ]
  },
  {
   "cell_type": "code",
   "execution_count": 66,
   "id": "e5ee5282",
   "metadata": {},
   "outputs": [],
   "source": [
    "ufos = pd.read_csv(\"https://github.com/UIUC-iSchool-DataViz/is445_AOUAOG_fall2021/raw/master/week05/data/ufo-scrubbed-geocoded-time-standardized-00.csv\",\n",
    "                  names = [\"date\", \"city\", \"state\", \"country\",\n",
    "                          \"shape\", \"duration_seconds\", \"duration\",\n",
    "                          \"comment\", \"report_date\", \"latitude\", \"longitude\"],\n",
    "                  parse_dates = [\"date\", \"report_date\"])"
   ]
  },
  {
   "cell_type": "code",
   "execution_count": 67,
   "id": "6211fab0",
   "metadata": {},
   "outputs": [
    {
     "data": {
      "text/html": [
       "<div>\n",
       "<style scoped>\n",
       "    .dataframe tbody tr th:only-of-type {\n",
       "        vertical-align: middle;\n",
       "    }\n",
       "\n",
       "    .dataframe tbody tr th {\n",
       "        vertical-align: top;\n",
       "    }\n",
       "\n",
       "    .dataframe thead th {\n",
       "        text-align: right;\n",
       "    }\n",
       "</style>\n",
       "<table border=\"1\" class=\"dataframe\">\n",
       "  <thead>\n",
       "    <tr style=\"text-align: right;\">\n",
       "      <th></th>\n",
       "      <th>date</th>\n",
       "      <th>city</th>\n",
       "      <th>state</th>\n",
       "      <th>country</th>\n",
       "      <th>shape</th>\n",
       "      <th>duration_seconds</th>\n",
       "      <th>duration</th>\n",
       "      <th>comment</th>\n",
       "      <th>report_date</th>\n",
       "      <th>latitude</th>\n",
       "      <th>longitude</th>\n",
       "    </tr>\n",
       "  </thead>\n",
       "  <tbody>\n",
       "    <tr>\n",
       "      <th>0</th>\n",
       "      <td>1949-10-10 20:30:00</td>\n",
       "      <td>san marcos</td>\n",
       "      <td>tx</td>\n",
       "      <td>us</td>\n",
       "      <td>cylinder</td>\n",
       "      <td>2700.0</td>\n",
       "      <td>45 minutes</td>\n",
       "      <td>This event took place in early fall around 194...</td>\n",
       "      <td>2004-04-27</td>\n",
       "      <td>29.883056</td>\n",
       "      <td>-97.941111</td>\n",
       "    </tr>\n",
       "    <tr>\n",
       "      <th>1</th>\n",
       "      <td>1949-10-10 21:00:00</td>\n",
       "      <td>lackland afb</td>\n",
       "      <td>tx</td>\n",
       "      <td>NaN</td>\n",
       "      <td>light</td>\n",
       "      <td>7200.0</td>\n",
       "      <td>1-2 hrs</td>\n",
       "      <td>1949 Lackland AFB&amp;#44 TX.  Lights racing acros...</td>\n",
       "      <td>2005-12-16</td>\n",
       "      <td>29.384210</td>\n",
       "      <td>-98.581082</td>\n",
       "    </tr>\n",
       "    <tr>\n",
       "      <th>2</th>\n",
       "      <td>1955-10-10 17:00:00</td>\n",
       "      <td>chester (uk/england)</td>\n",
       "      <td>NaN</td>\n",
       "      <td>gb</td>\n",
       "      <td>circle</td>\n",
       "      <td>20.0</td>\n",
       "      <td>20 seconds</td>\n",
       "      <td>Green/Orange circular disc over Chester&amp;#44 En...</td>\n",
       "      <td>2008-01-21</td>\n",
       "      <td>53.200000</td>\n",
       "      <td>-2.916667</td>\n",
       "    </tr>\n",
       "    <tr>\n",
       "      <th>3</th>\n",
       "      <td>1956-10-10 21:00:00</td>\n",
       "      <td>edna</td>\n",
       "      <td>tx</td>\n",
       "      <td>us</td>\n",
       "      <td>circle</td>\n",
       "      <td>20.0</td>\n",
       "      <td>1/2 hour</td>\n",
       "      <td>My older brother and twin sister were leaving ...</td>\n",
       "      <td>2004-01-17</td>\n",
       "      <td>28.978333</td>\n",
       "      <td>-96.645833</td>\n",
       "    </tr>\n",
       "    <tr>\n",
       "      <th>4</th>\n",
       "      <td>1960-10-10 20:00:00</td>\n",
       "      <td>kaneohe</td>\n",
       "      <td>hi</td>\n",
       "      <td>us</td>\n",
       "      <td>light</td>\n",
       "      <td>900.0</td>\n",
       "      <td>15 minutes</td>\n",
       "      <td>AS a Marine 1st Lt. flying an FJ4B fighter/att...</td>\n",
       "      <td>2004-01-22</td>\n",
       "      <td>21.418056</td>\n",
       "      <td>-157.803611</td>\n",
       "    </tr>\n",
       "    <tr>\n",
       "      <th>...</th>\n",
       "      <td>...</td>\n",
       "      <td>...</td>\n",
       "      <td>...</td>\n",
       "      <td>...</td>\n",
       "      <td>...</td>\n",
       "      <td>...</td>\n",
       "      <td>...</td>\n",
       "      <td>...</td>\n",
       "      <td>...</td>\n",
       "      <td>...</td>\n",
       "      <td>...</td>\n",
       "    </tr>\n",
       "    <tr>\n",
       "      <th>80327</th>\n",
       "      <td>2013-09-09 21:15:00</td>\n",
       "      <td>nashville</td>\n",
       "      <td>tn</td>\n",
       "      <td>us</td>\n",
       "      <td>light</td>\n",
       "      <td>600.0</td>\n",
       "      <td>10 minutes</td>\n",
       "      <td>Round from the distance/slowly changing colors...</td>\n",
       "      <td>2013-09-30</td>\n",
       "      <td>36.165833</td>\n",
       "      <td>-86.784444</td>\n",
       "    </tr>\n",
       "    <tr>\n",
       "      <th>80328</th>\n",
       "      <td>2013-09-09 22:00:00</td>\n",
       "      <td>boise</td>\n",
       "      <td>id</td>\n",
       "      <td>us</td>\n",
       "      <td>circle</td>\n",
       "      <td>1200.0</td>\n",
       "      <td>20 minutes</td>\n",
       "      <td>Boise&amp;#44 ID&amp;#44 spherical&amp;#44 20 min&amp;#44 10 r...</td>\n",
       "      <td>2013-09-30</td>\n",
       "      <td>43.613611</td>\n",
       "      <td>-116.202500</td>\n",
       "    </tr>\n",
       "    <tr>\n",
       "      <th>80329</th>\n",
       "      <td>2013-09-09 22:00:00</td>\n",
       "      <td>napa</td>\n",
       "      <td>ca</td>\n",
       "      <td>us</td>\n",
       "      <td>other</td>\n",
       "      <td>1200.0</td>\n",
       "      <td>hour</td>\n",
       "      <td>Napa UFO&amp;#44</td>\n",
       "      <td>2013-09-30</td>\n",
       "      <td>38.297222</td>\n",
       "      <td>-122.284444</td>\n",
       "    </tr>\n",
       "    <tr>\n",
       "      <th>80330</th>\n",
       "      <td>2013-09-09 22:20:00</td>\n",
       "      <td>vienna</td>\n",
       "      <td>va</td>\n",
       "      <td>us</td>\n",
       "      <td>circle</td>\n",
       "      <td>5.0</td>\n",
       "      <td>5 seconds</td>\n",
       "      <td>Saw a five gold lit cicular craft moving fastl...</td>\n",
       "      <td>2013-09-30</td>\n",
       "      <td>38.901111</td>\n",
       "      <td>-77.265556</td>\n",
       "    </tr>\n",
       "    <tr>\n",
       "      <th>80331</th>\n",
       "      <td>2013-09-09 23:00:00</td>\n",
       "      <td>edmond</td>\n",
       "      <td>ok</td>\n",
       "      <td>us</td>\n",
       "      <td>cigar</td>\n",
       "      <td>1020.0</td>\n",
       "      <td>17 minutes</td>\n",
       "      <td>2 witnesses 2  miles apart&amp;#44 Red &amp;amp; White...</td>\n",
       "      <td>2013-09-30</td>\n",
       "      <td>35.652778</td>\n",
       "      <td>-97.477778</td>\n",
       "    </tr>\n",
       "  </tbody>\n",
       "</table>\n",
       "<p>80332 rows × 11 columns</p>\n",
       "</div>"
      ],
      "text/plain": [
       "                     date                  city state country     shape  \\\n",
       "0     1949-10-10 20:30:00            san marcos    tx      us  cylinder   \n",
       "1     1949-10-10 21:00:00          lackland afb    tx     NaN     light   \n",
       "2     1955-10-10 17:00:00  chester (uk/england)   NaN      gb    circle   \n",
       "3     1956-10-10 21:00:00                  edna    tx      us    circle   \n",
       "4     1960-10-10 20:00:00               kaneohe    hi      us     light   \n",
       "...                   ...                   ...   ...     ...       ...   \n",
       "80327 2013-09-09 21:15:00             nashville    tn      us     light   \n",
       "80328 2013-09-09 22:00:00                 boise    id      us    circle   \n",
       "80329 2013-09-09 22:00:00                  napa    ca      us     other   \n",
       "80330 2013-09-09 22:20:00                vienna    va      us    circle   \n",
       "80331 2013-09-09 23:00:00                edmond    ok      us     cigar   \n",
       "\n",
       "       duration_seconds    duration  \\\n",
       "0                2700.0  45 minutes   \n",
       "1                7200.0     1-2 hrs   \n",
       "2                  20.0  20 seconds   \n",
       "3                  20.0    1/2 hour   \n",
       "4                 900.0  15 minutes   \n",
       "...                 ...         ...   \n",
       "80327             600.0  10 minutes   \n",
       "80328            1200.0  20 minutes   \n",
       "80329            1200.0        hour   \n",
       "80330               5.0   5 seconds   \n",
       "80331            1020.0  17 minutes   \n",
       "\n",
       "                                                 comment report_date  \\\n",
       "0      This event took place in early fall around 194...  2004-04-27   \n",
       "1      1949 Lackland AFB&#44 TX.  Lights racing acros...  2005-12-16   \n",
       "2      Green/Orange circular disc over Chester&#44 En...  2008-01-21   \n",
       "3      My older brother and twin sister were leaving ...  2004-01-17   \n",
       "4      AS a Marine 1st Lt. flying an FJ4B fighter/att...  2004-01-22   \n",
       "...                                                  ...         ...   \n",
       "80327  Round from the distance/slowly changing colors...  2013-09-30   \n",
       "80328  Boise&#44 ID&#44 spherical&#44 20 min&#44 10 r...  2013-09-30   \n",
       "80329                                       Napa UFO&#44  2013-09-30   \n",
       "80330  Saw a five gold lit cicular craft moving fastl...  2013-09-30   \n",
       "80331  2 witnesses 2  miles apart&#44 Red &amp; White...  2013-09-30   \n",
       "\n",
       "        latitude   longitude  \n",
       "0      29.883056  -97.941111  \n",
       "1      29.384210  -98.581082  \n",
       "2      53.200000   -2.916667  \n",
       "3      28.978333  -96.645833  \n",
       "4      21.418056 -157.803611  \n",
       "...          ...         ...  \n",
       "80327  36.165833  -86.784444  \n",
       "80328  43.613611 -116.202500  \n",
       "80329  38.297222 -122.284444  \n",
       "80330  38.901111  -77.265556  \n",
       "80331  35.652778  -97.477778  \n",
       "\n",
       "[80332 rows x 11 columns]"
      ]
     },
     "execution_count": 67,
     "metadata": {},
     "output_type": "execute_result"
    }
   ],
   "source": [
    "ufos"
   ]
  },
  {
   "cell_type": "code",
   "execution_count": 68,
   "id": "c01e9da3",
   "metadata": {},
   "outputs": [],
   "source": [
    "ufos = ufos.fillna({'country':'unknown','state':'unknown', 'shape':'unknown'})"
   ]
  },
  {
   "cell_type": "code",
   "execution_count": 125,
   "id": "736403d1",
   "metadata": {},
   "outputs": [
    {
     "data": {
      "application/vnd.jupyter.widget-view+json": {
       "model_id": "e01d2c339aac4650ab920433b60a0a0e",
       "version_major": 2,
       "version_minor": 0
      },
      "text/plain": [
       "interactive(children=(Dropdown(description='x_axis', options=('date', 'city', 'state', 'country', 'shape', 'du…"
      ]
     },
     "metadata": {},
     "output_type": "display_data"
    }
   ],
   "source": [
    "#Question 1 Part 1\n",
    "@ipywidgets.interact(x_axis=ufos.columns, y_axis=ufos.columns)\n",
    "def ufo_graph(x_axis,y_axis):\n",
    "    plt.scatter(x = ufos[x_axis],\n",
    "                    y = ufos[y_axis],\n",
    "                    c=np.log10(ufos['duration_seconds']),\n",
    "                    s=20,\n",
    "                   )\n",
    "        \n",
    "    plt.show()\n"
   ]
  },
  {
   "cell_type": "markdown",
   "id": "e94002ad",
   "metadata": {},
   "source": [
    "For this, I allowed the user to customize the x and y axis with any columns they would like in order for them to be able to test out which of the columns have any correlation with eachother. An example would be having the x-axis as the country and the y-axis as the duration_seconds. By plotting these two points, you are able to see which country has the longest duration of seeing the ufo and this information could be important to raise questions as to why certain countries have longer durations than others in which can prompt further investigations. "
   ]
  },
  {
   "cell_type": "code",
   "execution_count": 124,
   "id": "380b5785",
   "metadata": {},
   "outputs": [
    {
     "data": {
      "application/vnd.jupyter.widget-view+json": {
       "model_id": "3b74421536fc4a42bb911a5faa74da64",
       "version_major": 2,
       "version_minor": 0
      },
      "text/plain": [
       "interactive(children=(Dropdown(description='x_axis', options=('date', 'city', 'state', 'country', 'shape', 'du…"
      ]
     },
     "metadata": {},
     "output_type": "display_data"
    }
   ],
   "source": [
    "#Question 1 Part 2\n",
    "@ipywidgets.interact(x_axis=ufos.columns, y_axis=ufos.columns,color_map = plt.colormaps())\n",
    "def ufo_graph(x_axis,y_axis,color_map):\n",
    "    plt.scatter(x = ufos[x_axis],\n",
    "                    y = ufos[y_axis],\n",
    "                    c=np.log10(ufos['duration_seconds']),\n",
    "                    s=20,\n",
    "                    cmap=color_map\n",
    "                   )\n",
    "        \n",
    "    plt.show()\n"
   ]
  },
  {
   "cell_type": "code",
   "execution_count": 97,
   "id": "1327f58b",
   "metadata": {},
   "outputs": [
    {
     "name": "stdout",
     "output_type": "stream",
     "text": [
      "<class 'pandas.core.frame.DataFrame'>\n",
      "RangeIndex: 80332 entries, 0 to 80331\n",
      "Data columns (total 11 columns):\n",
      " #   Column            Non-Null Count  Dtype         \n",
      "---  ------            --------------  -----         \n",
      " 0   date              80332 non-null  datetime64[ns]\n",
      " 1   city              80332 non-null  object        \n",
      " 2   state             80332 non-null  object        \n",
      " 3   country           80332 non-null  object        \n",
      " 4   shape             80332 non-null  object        \n",
      " 5   duration_seconds  80332 non-null  float64       \n",
      " 6   duration          80332 non-null  object        \n",
      " 7   comment           80317 non-null  object        \n",
      " 8   report_date       80332 non-null  datetime64[ns]\n",
      " 9   latitude          80332 non-null  float64       \n",
      " 10  longitude         80332 non-null  float64       \n",
      "dtypes: datetime64[ns](2), float64(3), object(6)\n",
      "memory usage: 6.7+ MB\n",
      "None\n"
     ]
    }
   ],
   "source": [
    "print(ufos.info())"
   ]
  },
  {
   "cell_type": "code",
   "execution_count": 143,
   "id": "689d64d9",
   "metadata": {},
   "outputs": [
    {
     "data": {
      "application/vnd.jupyter.widget-view+json": {
       "model_id": "f8c6f8fe93a34004a890a8c747a931fa",
       "version_major": 2,
       "version_minor": 0
      },
      "text/plain": [
       "interactive(children=(Dropdown(description='column_name', options=('state', 'latitude', 'longitude', 'country'…"
      ]
     },
     "metadata": {},
     "output_type": "display_data"
    }
   ],
   "source": [
    "#Question 2 parts 1 and 2 combined\n",
    "\n",
    "columns_list = ['state',  'latitude','longitude','country', 'shape','city','shape']\n",
    "\n",
    "@ipywidgets.interact(column_name= columns_list, numberofbars = np.arange(1,20))\n",
    "def ufo_bar_hist(column_name, numberofbars):\n",
    "    fig, ax = plt.subplots(figsize=(20, 5))\n",
    "\n",
    "    if ufos[column_name].dtype != 'float64':\n",
    "            graph = ufos.groupby(column_name)[column_name].count()\n",
    "            x = graph.index\n",
    "            y = graph.values\n",
    "            ax.bar(x, y)\n",
    "    else: \n",
    "        ufos.hist(column=column_name, ax=ax, bins=numberofbars)\n",
    "        \n",
    "    fig.autofmt_xdate(rotation=90)\n",
    "    plt.show()"
   ]
  },
  {
   "cell_type": "markdown",
   "id": "d400af90",
   "metadata": {},
   "source": [
    "For this visualization, I decided that the User shouldn't be able to select from all the columns because first of all, in order to this, the user would need a computer strong enough to load the data as I had problems loading all the columns since the file is big. The second reason on why I decided to only have certain columns in the options is because the columns containing numerical values are better being visualized on a scatter plot rather than a bar graph. But 2 columns that are visualized pretty well on bar graphs would be the longitude and latitude columns. As you plot them, you can clearly see which coordinates have the most ufo sitings which is important information. "
   ]
  }
 ],
 "metadata": {
  "kernelspec": {
   "display_name": "Python 3 (ipykernel)",
   "language": "python",
   "name": "python3"
  },
  "language_info": {
   "codemirror_mode": {
    "name": "ipython",
    "version": 3
   },
   "file_extension": ".py",
   "mimetype": "text/x-python",
   "name": "python",
   "nbconvert_exporter": "python",
   "pygments_lexer": "ipython3",
   "version": "3.8.10"
  }
 },
 "nbformat": 4,
 "nbformat_minor": 5
}
